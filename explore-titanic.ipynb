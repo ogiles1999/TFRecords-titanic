{
 "cells": [
  {
   "cell_type": "code",
   "execution_count": 89,
   "id": "25dfedc3-a34d-4aaf-a900-56d79c14188f",
   "metadata": {},
   "outputs": [],
   "source": [
    "def _bytes_feature(value):\n",
    "    \"\"\"Returns a bytes_list from a string / byte.\"\"\"\n",
    "    if isinstance(value, type(tf.constant(0))):\n",
    "        value = value.numpy() # BytesList won't unpack a string from an EagerTensor.\n",
    "    if isinstance(value, str):\n",
    "        value = value.encode()\n",
    "    print(value)\n",
    "    print(type(value))\n",
    "    return tf.train.Feature(bytes_list=tf.train.BytesList(value=[value]))\n",
    "\n",
    "def _float_feature(value):\n",
    "    \"\"\"Returns a float_list from a float / double.\"\"\"\n",
    "    return tf.train.Feature(float_list=tf.train.FloatList(value=[value]))\n",
    "\n",
    "def _int64_feature(value):\n",
    "    \"\"\"Returns an int64_list from a bool / enum / int / uint.\"\"\"\n",
    "    return tf.train.Feature(int64_list=tf.train.Int64List(value=[value]))"
   ]
  },
  {
   "cell_type": "code",
   "execution_count": 90,
   "id": "07f1c7fe-0bd1-482b-9872-95d2a3114d55",
   "metadata": {},
   "outputs": [
    {
     "name": "stdout",
     "output_type": "stream",
     "text": [
      "b'hello'\n",
      "<class 'bytes'>\n"
     ]
    },
    {
     "data": {
      "text/plain": [
       "bytes_list {\n",
       "  value: \"hello\"\n",
       "}"
      ]
     },
     "execution_count": 90,
     "metadata": {},
     "output_type": "execute_result"
    }
   ],
   "source": [
    "_bytes_feature(\"hello\")"
   ]
  },
  {
   "cell_type": "code",
   "execution_count": 91,
   "id": "01e12480-3bb8-405c-9f1c-182c46b11212",
   "metadata": {},
   "outputs": [
    {
     "data": {
      "text/plain": [
       "bytes"
      ]
     },
     "execution_count": 91,
     "metadata": {},
     "output_type": "execute_result"
    }
   ],
   "source": [
    "type(b\"x\")"
   ]
  },
  {
   "cell_type": "code",
   "execution_count": 92,
   "id": "13b8d620-c872-4602-a92e-4676abd2a89f",
   "metadata": {},
   "outputs": [
    {
     "ename": "SyntaxError",
     "evalue": "invalid syntax (3301983091.py, line 4)",
     "output_type": "error",
     "traceback": [
      "\u001b[0;36m  File \u001b[0;32m\"/var/folders/j2/8wtg84_s6qxg6hk4z3_kl3p40000gn/T/ipykernel_78676/3301983091.py\"\u001b[0;36m, line \u001b[0;32m4\u001b[0m\n\u001b[0;31m    if type(value in [float])\u001b[0m\n\u001b[0m                             ^\u001b[0m\n\u001b[0;31mSyntaxError\u001b[0m\u001b[0;31m:\u001b[0m invalid syntax\n"
     ]
    }
   ],
   "source": [
    "def _convert(value):\n",
    "    if type(value) in [str, bytes]:\n",
    "        return _bytes_feature(value)\n",
    "    if type(value in [float])\n",
    "        return _float_feature(value)\n",
    "    if type(value in []"
   ]
  },
  {
   "cell_type": "code",
   "execution_count": 93,
   "id": "72de47ee-63a3-413d-a916-28a41283b395",
   "metadata": {},
   "outputs": [],
   "source": [
    "import pandas as pd"
   ]
  },
  {
   "cell_type": "code",
   "execution_count": 94,
   "id": "09c7fbd2-a436-480e-9c2a-7f0d9cdb0e30",
   "metadata": {},
   "outputs": [
    {
     "name": "stdout",
     "output_type": "stream",
     "text": [
      "['PassengerId', 'Survived', 'Pclass', 'Name', 'Sex', 'Age', 'SibSp', 'Parch', 'Ticket', 'Fare', 'Cabin', 'Embarked']\n"
     ]
    }
   ],
   "source": [
    "import csv\n",
    "\n",
    "with open(\"titanic.csv\") as csvfile:\n",
    "    reader = csv.DictReader(csvfile)\n",
    "    print(reader.fieldnames)\n",
    "    for row in reader:\n",
    "        pass"
   ]
  },
  {
   "cell_type": "code",
   "execution_count": 95,
   "id": "55f9cc48-e76e-44ff-9e6c-d6e4801261ce",
   "metadata": {},
   "outputs": [],
   "source": [
    "def db(x):\n",
    "    return x * 2"
   ]
  },
  {
   "cell_type": "code",
   "execution_count": 101,
   "id": "fe91fb5c-ed04-47c2-85ae-3fa15bbe03e6",
   "metadata": {},
   "outputs": [],
   "source": [
    "df = pd.read_csv(\"titanic.csv\").dropna()"
   ]
  },
  {
   "cell_type": "code",
   "execution_count": 102,
   "id": "92367e47-735b-474a-81dc-9ede5c92fb3c",
   "metadata": {},
   "outputs": [
    {
     "data": {
      "text/html": [
       "<div>\n",
       "<style scoped>\n",
       "    .dataframe tbody tr th:only-of-type {\n",
       "        vertical-align: middle;\n",
       "    }\n",
       "\n",
       "    .dataframe tbody tr th {\n",
       "        vertical-align: top;\n",
       "    }\n",
       "\n",
       "    .dataframe thead th {\n",
       "        text-align: right;\n",
       "    }\n",
       "</style>\n",
       "<table border=\"1\" class=\"dataframe\">\n",
       "  <thead>\n",
       "    <tr style=\"text-align: right;\">\n",
       "      <th></th>\n",
       "      <th>PassengerId</th>\n",
       "      <th>Survived</th>\n",
       "      <th>Pclass</th>\n",
       "      <th>Name</th>\n",
       "      <th>Sex</th>\n",
       "      <th>Age</th>\n",
       "      <th>SibSp</th>\n",
       "      <th>Parch</th>\n",
       "      <th>Ticket</th>\n",
       "      <th>Fare</th>\n",
       "      <th>Cabin</th>\n",
       "      <th>Embarked</th>\n",
       "    </tr>\n",
       "  </thead>\n",
       "  <tbody>\n",
       "    <tr>\n",
       "      <th>1</th>\n",
       "      <td>2</td>\n",
       "      <td>1</td>\n",
       "      <td>1</td>\n",
       "      <td>Cumings, Mrs. John Bradley (Florence Briggs Th...</td>\n",
       "      <td>female</td>\n",
       "      <td>38.0</td>\n",
       "      <td>1</td>\n",
       "      <td>0</td>\n",
       "      <td>PC 17599</td>\n",
       "      <td>71.2833</td>\n",
       "      <td>C85</td>\n",
       "      <td>C</td>\n",
       "    </tr>\n",
       "    <tr>\n",
       "      <th>3</th>\n",
       "      <td>4</td>\n",
       "      <td>1</td>\n",
       "      <td>1</td>\n",
       "      <td>Futrelle, Mrs. Jacques Heath (Lily May Peel)</td>\n",
       "      <td>female</td>\n",
       "      <td>35.0</td>\n",
       "      <td>1</td>\n",
       "      <td>0</td>\n",
       "      <td>113803</td>\n",
       "      <td>53.1000</td>\n",
       "      <td>C123</td>\n",
       "      <td>S</td>\n",
       "    </tr>\n",
       "    <tr>\n",
       "      <th>6</th>\n",
       "      <td>7</td>\n",
       "      <td>0</td>\n",
       "      <td>1</td>\n",
       "      <td>McCarthy, Mr. Timothy J</td>\n",
       "      <td>male</td>\n",
       "      <td>54.0</td>\n",
       "      <td>0</td>\n",
       "      <td>0</td>\n",
       "      <td>17463</td>\n",
       "      <td>51.8625</td>\n",
       "      <td>E46</td>\n",
       "      <td>S</td>\n",
       "    </tr>\n",
       "    <tr>\n",
       "      <th>10</th>\n",
       "      <td>11</td>\n",
       "      <td>1</td>\n",
       "      <td>3</td>\n",
       "      <td>Sandstrom, Miss. Marguerite Rut</td>\n",
       "      <td>female</td>\n",
       "      <td>4.0</td>\n",
       "      <td>1</td>\n",
       "      <td>1</td>\n",
       "      <td>PP 9549</td>\n",
       "      <td>16.7000</td>\n",
       "      <td>G6</td>\n",
       "      <td>S</td>\n",
       "    </tr>\n",
       "    <tr>\n",
       "      <th>11</th>\n",
       "      <td>12</td>\n",
       "      <td>1</td>\n",
       "      <td>1</td>\n",
       "      <td>Bonnell, Miss. Elizabeth</td>\n",
       "      <td>female</td>\n",
       "      <td>58.0</td>\n",
       "      <td>0</td>\n",
       "      <td>0</td>\n",
       "      <td>113783</td>\n",
       "      <td>26.5500</td>\n",
       "      <td>C103</td>\n",
       "      <td>S</td>\n",
       "    </tr>\n",
       "  </tbody>\n",
       "</table>\n",
       "</div>"
      ],
      "text/plain": [
       "    PassengerId  Survived  Pclass  \\\n",
       "1             2         1       1   \n",
       "3             4         1       1   \n",
       "6             7         0       1   \n",
       "10           11         1       3   \n",
       "11           12         1       1   \n",
       "\n",
       "                                                 Name     Sex   Age  SibSp  \\\n",
       "1   Cumings, Mrs. John Bradley (Florence Briggs Th...  female  38.0      1   \n",
       "3        Futrelle, Mrs. Jacques Heath (Lily May Peel)  female  35.0      1   \n",
       "6                             McCarthy, Mr. Timothy J    male  54.0      0   \n",
       "10                    Sandstrom, Miss. Marguerite Rut  female   4.0      1   \n",
       "11                           Bonnell, Miss. Elizabeth  female  58.0      0   \n",
       "\n",
       "    Parch    Ticket     Fare Cabin Embarked  \n",
       "1       0  PC 17599  71.2833   C85        C  \n",
       "3       0    113803  53.1000  C123        S  \n",
       "6       0     17463  51.8625   E46        S  \n",
       "10      1   PP 9549  16.7000    G6        S  \n",
       "11      0    113783  26.5500  C103        S  "
      ]
     },
     "execution_count": 102,
     "metadata": {},
     "output_type": "execute_result"
    }
   ],
   "source": [
    "df.head()"
   ]
  },
  {
   "cell_type": "code",
   "execution_count": 103,
   "id": "7a10be1b-354e-4a48-a1d2-f772d9a2f71d",
   "metadata": {},
   "outputs": [
    {
     "data": {
      "text/plain": [
       "PassengerId      int64\n",
       "Survived         int64\n",
       "Pclass           int64\n",
       "Name            object\n",
       "Sex             object\n",
       "Age            float64\n",
       "SibSp            int64\n",
       "Parch            int64\n",
       "Ticket          object\n",
       "Fare           float64\n",
       "Cabin           object\n",
       "Embarked        object\n",
       "dtype: object"
      ]
     },
     "execution_count": 103,
     "metadata": {},
     "output_type": "execute_result"
    }
   ],
   "source": [
    "df.dtypes"
   ]
  },
  {
   "cell_type": "code",
   "execution_count": 104,
   "id": "462b48c4-9aa7-4486-bcdd-91b5d0e66e62",
   "metadata": {},
   "outputs": [],
   "source": [
    "mappings = {\n",
    "    \"PassengerId\": _int64_feature,\n",
    "    \"Survived\": _int64_feature,\n",
    "    \"Pclass\": _int64_feature,\n",
    "    \"Name\": _bytes_feature,\n",
    "    \"Sex\": _bytes_feature,\n",
    "    \"Age\": _float_feature,\n",
    "    \"SibSp\": _int64_feature,\n",
    "    \"Parch\": _int64_feature,\n",
    "    \"Ticket\": _bytes_feature,\n",
    "    \"Fare\": _float_feature,\n",
    "    \"Cabin\": _bytes_feature,\n",
    "    \"Embarked\": _bytes_feature\n",
    "}"
   ]
  },
  {
   "cell_type": "code",
   "execution_count": 106,
   "id": "64ce0063-0ffb-4a09-9e30-af922bb04380",
   "metadata": {},
   "outputs": [],
   "source": [
    "d = {\n",
    "\"test\": type(type)\n",
    "}"
   ]
  },
  {
   "cell_type": "code",
   "execution_count": 108,
   "id": "0a85a17a-c05b-48b1-8723-d4fb2b1e7b85",
   "metadata": {},
   "outputs": [],
   "source": [
    "def add_one(x):\n",
    "    return x + 1"
   ]
  },
  {
   "cell_type": "code",
   "execution_count": 114,
   "id": "02c9ab5f-b10a-4383-b37f-9efd0caa9fbd",
   "metadata": {},
   "outputs": [],
   "source": [
    "functions = [add_one, add_one]"
   ]
  },
  {
   "cell_type": "code",
   "execution_count": 115,
   "id": "5abc0f3f-e61c-451b-861d-b87ec1994e31",
   "metadata": {},
   "outputs": [],
   "source": [
    "x = 1"
   ]
  },
  {
   "cell_type": "code",
   "execution_count": 117,
   "id": "e29920f7-77de-4629-b50d-5981b977790c",
   "metadata": {},
   "outputs": [
    {
     "data": {
      "text/plain": [
       "3"
      ]
     },
     "execution_count": 117,
     "metadata": {},
     "output_type": "execute_result"
    }
   ],
   "source": [
    "for f in functions:\n",
    "    x = f(x)\n",
    "x"
   ]
  },
  {
   "cell_type": "code",
   "execution_count": 105,
   "id": "caa23356-b70e-43e6-b4f0-7e3f38941467",
   "metadata": {},
   "outputs": [
    {
     "name": "stdout",
     "output_type": "stream",
     "text": [
      "b'Braund, Mr. Owen Harris'\n",
      "<class 'bytes'>\n",
      "b'male'\n",
      "<class 'bytes'>\n",
      "b'A/5 21171'\n",
      "<class 'bytes'>\n",
      "b''\n",
      "<class 'bytes'>\n",
      "b'S'\n",
      "<class 'bytes'>\n",
      "b'Cumings, Mrs. John Bradley (Florence Briggs Thayer)'\n",
      "<class 'bytes'>\n",
      "b'female'\n",
      "<class 'bytes'>\n",
      "b'PC 17599'\n",
      "<class 'bytes'>\n",
      "b'C85'\n",
      "<class 'bytes'>\n",
      "b'C'\n",
      "<class 'bytes'>\n",
      "b'Heikkinen, Miss. Laina'\n",
      "<class 'bytes'>\n",
      "b'female'\n",
      "<class 'bytes'>\n",
      "b'STON/O2. 3101282'\n",
      "<class 'bytes'>\n",
      "b''\n",
      "<class 'bytes'>\n",
      "b'S'\n",
      "<class 'bytes'>\n",
      "b'Futrelle, Mrs. Jacques Heath (Lily May Peel)'\n",
      "<class 'bytes'>\n",
      "b'female'\n",
      "<class 'bytes'>\n",
      "b'113803'\n",
      "<class 'bytes'>\n",
      "b'C123'\n",
      "<class 'bytes'>\n",
      "b'S'\n",
      "<class 'bytes'>\n",
      "b'Allen, Mr. William Henry'\n",
      "<class 'bytes'>\n",
      "b'male'\n",
      "<class 'bytes'>\n",
      "b'373450'\n",
      "<class 'bytes'>\n",
      "b''\n",
      "<class 'bytes'>\n",
      "b'S'\n",
      "<class 'bytes'>\n",
      "b'Moran, Mr. James'\n",
      "<class 'bytes'>\n",
      "b'male'\n",
      "<class 'bytes'>\n"
     ]
    },
    {
     "ename": "SyntaxError",
     "evalue": "unexpected EOF while parsing (<string>, line 0)",
     "output_type": "error",
     "traceback": [
      "Traceback \u001b[0;36m(most recent call last)\u001b[0m:\n",
      "  File \u001b[1;32m\"/Users/olivergiles/.pyenv/versions/3.8.12/envs/lewagon/lib/python3.8/site-packages/IPython/core/interactiveshell.py\"\u001b[0m, line \u001b[1;32m3457\u001b[0m, in \u001b[1;35mrun_code\u001b[0m\n    exec(code_obj, self.user_global_ns, self.user_ns)\n",
      "  File \u001b[1;32m\"/var/folders/j2/8wtg84_s6qxg6hk4z3_kl3p40000gn/T/ipykernel_78676/4020588194.py\"\u001b[0m, line \u001b[1;32m10\u001b[0m, in \u001b[1;35m<module>\u001b[0m\n    feature[field] = feature[field](row[field])\n",
      "\u001b[0;36m  File \u001b[0;32m\"/var/folders/j2/8wtg84_s6qxg6hk4z3_kl3p40000gn/T/ipykernel_78676/2677750755.py\"\u001b[0;36m, line \u001b[0;32m13\u001b[0;36m, in \u001b[0;35m_float_feature\u001b[0;36m\u001b[0m\n\u001b[0;31m    return tf.train.Feature(float_list=tf.train.FloatList(value=[eval(value)]))\u001b[0m\n",
      "\u001b[0;36m  File \u001b[0;32m\"<string>\"\u001b[0;36m, line \u001b[0;32munknown\u001b[0m\n\u001b[0;31m    \u001b[0m\n\u001b[0m    ^\u001b[0m\n\u001b[0;31mSyntaxError\u001b[0m\u001b[0;31m:\u001b[0m unexpected EOF while parsing\n"
     ]
    }
   ],
   "source": [
    "import csv\n",
    "import tensorflow as tf\n",
    "\n",
    "with open(\"titanic.csv\") as csvfile, tf.io.TFRecordWriter(\"titanic.tfrecord\") as writer:\n",
    "    reader = csv.DictReader(csvfile)\n",
    "    fields = reader.fieldnames\n",
    "    for row in reader:\n",
    "        feature = mappings.copy()\n",
    "        for field in fields:\n",
    "            feature[field] = feature[field](row[field])\n",
    "        proto = tf.train.Example(features=tf.train.Features(feature=feature))\n",
    "        writer.write(proto.SerializeToString())\n",
    "        "
   ]
  },
  {
   "cell_type": "code",
   "execution_count": null,
   "id": "55a55306-54c9-438a-b856-c045f05bc677",
   "metadata": {},
   "outputs": [],
   "source": []
  }
 ],
 "metadata": {
  "kernelspec": {
   "display_name": "Python 3 (ipykernel)",
   "language": "python",
   "name": "python3"
  },
  "language_info": {
   "codemirror_mode": {
    "name": "ipython",
    "version": 3
   },
   "file_extension": ".py",
   "mimetype": "text/x-python",
   "name": "python",
   "nbconvert_exporter": "python",
   "pygments_lexer": "ipython3",
   "version": "3.8.12"
  }
 },
 "nbformat": 4,
 "nbformat_minor": 5
}
